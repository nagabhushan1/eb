{
 "cells": [
  {
   "cell_type": "markdown",
   "id": "bb9aedab",
   "metadata": {},
   "source": [
    "# Python Question Bank (Questions Only)\n",
    "\n",
    "This notebook contains 171 Python questions covering all core concepts, structured by topic. Each section is separated for clarity.\n",
    "\n",
    "## Basics & Syntax\n",
    "\n",
    "1. What is Python and who developed it?\n",
    "2. What type of language is Python — compiled or interpreted?\n",
    "3. What is the extension of Python files?\n",
    "4. What function is used to print output in Python?\n",
    "5. How can you check the version of Python installed?\n",
    "6. What does it mean that Python is dynamically typed?\n",
    "7. What is the significance of indentation in Python?\n",
    "8. How can you write comments in Python?\n",
    "9. What is the difference between single quotes, double quotes, and triple quotes in Python strings?\n",
    "10. What is the default mode of the `print()` function’s end parameter?\n"
   ]
  }
 ],
 "metadata": {},
 "nbformat": 4,
 "nbformat_minor": 5
}