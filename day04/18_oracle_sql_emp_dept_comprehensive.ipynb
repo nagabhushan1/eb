{
 "cells": [
  {
   "cell_type": "markdown",
   "id": "391968cf",
   "metadata": {},
   "source": [
    "# Oracle SQL Practice Notebook\n",
    "This notebook provides a complete practice set for Oracle SQL, including user management, table creation, data insertion, and various SQL queries."
   ]
  },
  {
   "cell_type": "markdown",
   "id": "5af721d8",
   "metadata": {},
   "source": [
    "## 1. User and Session Setup\n",
    "Creating and managing a user account."
   ]
  },
  {
   "cell_type": "code",
   "execution_count": null,
   "id": "dc759b0c",
   "metadata": {},
   "outputs": [],
   "source": [
    "ALTER SESSION SET CONTAINER = XEPDB1;"
   ]
  },
  {
   "cell_type": "code",
   "execution_count": null,
   "id": "18c1016c",
   "metadata": {},
   "outputs": [],
   "source": [
    "DROP USER USER1 CASCADE;"
   ]
  },
  {
   "cell_type": "code",
   "execution_count": null,
   "id": "2a07ab3b",
   "metadata": {},
   "outputs": [],
   "source": [
    "CREATE USER USER1 IDENTIFIED BY USER1;"
   ]
  },
  {
   "cell_type": "code",
   "execution_count": null,
   "id": "d2bbdacb",
   "metadata": {},
   "outputs": [],
   "source": [
    "GRANT CREATE SESSION TO USER1;"
   ]
  },
  {
   "cell_type": "code",
   "execution_count": null,
   "id": "91a9156d",
   "metadata": {},
   "outputs": [],
   "source": [
    "ALTER USER USER1 QUOTA UNLIMITED ON USERS;"
   ]
  },
  {
   "cell_type": "code",
   "execution_count": null,
   "id": "a711e872",
   "metadata": {},
   "outputs": [],
   "source": [
    "ALTER USER USER1 ACCOUNT UNLOCK;"
   ]
  },
  {
   "cell_type": "code",
   "execution_count": null,
   "id": "ee308f96",
   "metadata": {},
   "outputs": [],
   "source": [
    "GRANT CREATE TABLE TO USER1;"
   ]
  },
  {
   "cell_type": "code",
   "execution_count": null,
   "id": "0f048997",
   "metadata": {},
   "outputs": [],
   "source": [
    "SELECT USERNAME, ACCOUNT_STATUS, COMMON FROM DBA_USERS WHERE USERNAME = 'USER1';"
   ]
  },
  {
   "cell_type": "code",
   "execution_count": null,
   "id": "bf71230c",
   "metadata": {},
   "outputs": [],
   "source": [
    "SET LINE 100;"
   ]
  },
  {
   "cell_type": "code",
   "execution_count": null,
   "id": "767a9fc7",
   "metadata": {},
   "outputs": [],
   "source": [
    "SET PAGESIZE 100;"
   ]
  },
  {
   "cell_type": "markdown",
   "id": "28e07d4e",
   "metadata": {},
   "source": [
    "## 2. Table Creation\n",
    "Creating the EMP and DEPT tables."
   ]
  },
  {
   "cell_type": "code",
   "execution_count": null,
   "id": "5251a4a8",
   "metadata": {},
   "outputs": [],
   "source": [
    "CREATE TABLE EMP (EMPNO DECIMAL(4,0) NOT NULL, ENAME VARCHAR(10) DEFAULT NULL, JOB VARCHAR(9) DEFAULT NULL, MGR DECIMAL(4,0) DEFAULT NULL, HIREDATE DATE DEFAULT NULL, SAL DECIMAL(7,2) DEFAULT NULL, COMM DECIMAL(7,2) DEFAULT NULL, DEPTNO DECIMAL(2,0) DEFAULT NULL);"
   ]
  },
  {
   "cell_type": "code",
   "execution_count": null,
   "id": "a0688a22",
   "metadata": {},
   "outputs": [],
   "source": [
    "DESC EMP;"
   ]
  },
  {
   "cell_type": "code",
   "execution_count": null,
   "id": "06e66b08",
   "metadata": {},
   "outputs": [],
   "source": [
    "SELECT COUNT(*) FROM EMP;"
   ]
  },
  {
   "cell_type": "code",
   "execution_count": null,
   "id": "909889eb",
   "metadata": {},
   "outputs": [],
   "source": [
    "SELECT * FROM EMP;"
   ]
  },
  {
   "cell_type": "code",
   "execution_count": null,
   "id": "48758cef",
   "metadata": {},
   "outputs": [],
   "source": [
    "CREATE TABLE DEPT (DEPTNO DECIMAL(2,0) DEFAULT NULL, DNAME VARCHAR(14) DEFAULT NULL, LOC VARCHAR(13) DEFAULT NULL);"
   ]
  },
  {
   "cell_type": "code",
   "execution_count": null,
   "id": "b6d4e90f",
   "metadata": {},
   "outputs": [],
   "source": [
    "DESC DEPT;"
   ]
  },
  {
   "cell_type": "code",
   "execution_count": null,
   "id": "e1a06510",
   "metadata": {},
   "outputs": [],
   "source": [
    "SELECT COUNT(*) FROM DEPT;"
   ]
  },
  {
   "cell_type": "code",
   "execution_count": null,
   "id": "0565198b",
   "metadata": {},
   "outputs": [],
   "source": [
    "SELECT * FROM DEPT;"
   ]
  },
  {
   "cell_type": "markdown",
   "id": "aaeed469",
   "metadata": {},
   "source": [
    "## 3. Data Insertion\n",
    "Inserting sample data into EMP and DEPT tables."
   ]
  },
  {
   "cell_type": "code",
   "execution_count": null,
   "id": "9f1e9f52",
   "metadata": {},
   "outputs": [],
   "source": [
    "INSERT INTO EMP VALUES ('7369','SMITH','CLERK','7902','17-DEC-80','800.00',NULL,'20');"
   ]
  },
  {
   "cell_type": "code",
   "execution_count": null,
   "id": "6d5425e0",
   "metadata": {},
   "outputs": [],
   "source": [
    "INSERT INTO EMP VALUES ('7499','ALLEN','SALESMAN','7698','20-FEB-81','1600.00','300.00','30');"
   ]
  },
  {
   "cell_type": "code",
   "execution_count": null,
   "id": "daa046b6",
   "metadata": {},
   "outputs": [],
   "source": [
    "INSERT INTO EMP VALUES ('7521','WARD','SALESMAN','7698','22-FEB-81','1250.00','500.00','30');"
   ]
  },
  {
   "cell_type": "code",
   "execution_count": null,
   "id": "4c3e329a",
   "metadata": {},
   "outputs": [],
   "source": [
    "INSERT INTO EMP VALUES ('7566','JONES','MANAGER','7839','02-APR-81','2975.00',NULL,'20');"
   ]
  },
  {
   "cell_type": "code",
   "execution_count": null,
   "id": "370224a7",
   "metadata": {},
   "outputs": [],
   "source": [
    "INSERT INTO EMP VALUES ('7654','MARTIN','SALESMAN','7698','28-SEP-81','1250.00','1400.00','30');"
   ]
  },
  {
   "cell_type": "code",
   "execution_count": null,
   "id": "e29aed4c",
   "metadata": {},
   "outputs": [],
   "source": [
    "INSERT INTO EMP VALUES ('7698','BLAKE','MANAGER','7839','01-MAY-81','2850.00',NULL,'30');"
   ]
  },
  {
   "cell_type": "code",
   "execution_count": null,
   "id": "e6f9c95e",
   "metadata": {},
   "outputs": [],
   "source": [
    "INSERT INTO EMP VALUES ('7782','CLARK','MANAGER','7839','09-JUN-81','2450.00',NULL,'10');"
   ]
  },
  {
   "cell_type": "code",
   "execution_count": null,
   "id": "dd5cbcdd",
   "metadata": {},
   "outputs": [],
   "source": [
    "INSERT INTO EMP VALUES ('7788','SCOTT','ANALYST','7566','09-DEC-82','3000.00',NULL,'20');"
   ]
  },
  {
   "cell_type": "code",
   "execution_count": null,
   "id": "d7881e23",
   "metadata": {},
   "outputs": [],
   "source": [
    "INSERT INTO EMP VALUES ('7839','KING','PRESIDENT',NULL,'17-NOV-81','5000.00',NULL,'10');"
   ]
  },
  {
   "cell_type": "code",
   "execution_count": null,
   "id": "188f8f3c",
   "metadata": {},
   "outputs": [],
   "source": [
    "INSERT INTO EMP VALUES ('7844','TURNER','SALESMAN','7698','08-SEP-81','1500.00','0.00','30');"
   ]
  },
  {
   "cell_type": "code",
   "execution_count": null,
   "id": "5fb6c6d9",
   "metadata": {},
   "outputs": [],
   "source": [
    "INSERT INTO EMP VALUES ('7876','ADAMS','CLERK','7788','12-JAN-83','1100.00',NULL,'20');"
   ]
  },
  {
   "cell_type": "code",
   "execution_count": null,
   "id": "977622d3",
   "metadata": {},
   "outputs": [],
   "source": [
    "INSERT INTO EMP VALUES ('7900','JAMES','CLERK','7698','03-DEC-81','950.00',NULL,'30');"
   ]
  },
  {
   "cell_type": "code",
   "execution_count": null,
   "id": "65fbe0e6",
   "metadata": {},
   "outputs": [],
   "source": [
    "INSERT INTO EMP VALUES ('7902','FORD','ANALYST','7566','03-DEC-81','3000.00',NULL,'20');"
   ]
  },
  {
   "cell_type": "code",
   "execution_count": null,
   "id": "a8ef1be0",
   "metadata": {},
   "outputs": [],
   "source": [
    "INSERT INTO EMP VALUES ('7934','MILLER','CLERK','7782','23-JAN-82','1300.00',NULL,'10');"
   ]
  },
  {
   "cell_type": "code",
   "execution_count": null,
   "id": "8a5358de",
   "metadata": {},
   "outputs": [],
   "source": [
    "SELECT * FROM EMP;"
   ]
  },
  {
   "cell_type": "code",
   "execution_count": null,
   "id": "03105fb4",
   "metadata": {},
   "outputs": [],
   "source": [
    "INSERT INTO DEPT VALUES ('10','ACCOUNTING','NEW YORK');"
   ]
  },
  {
   "cell_type": "code",
   "execution_count": null,
   "id": "a999dd94",
   "metadata": {},
   "outputs": [],
   "source": [
    "INSERT INTO DEPT VALUES ('20','RESEARCH','DALLAS');"
   ]
  },
  {
   "cell_type": "code",
   "execution_count": null,
   "id": "99be3570",
   "metadata": {},
   "outputs": [],
   "source": [
    "INSERT INTO DEPT VALUES ('30','SALES','CHICAGO');"
   ]
  },
  {
   "cell_type": "code",
   "execution_count": null,
   "id": "1d2a6ff5",
   "metadata": {},
   "outputs": [],
   "source": [
    "INSERT INTO DEPT VALUES ('40','OPERATIONS','BOSTON');"
   ]
  },
  {
   "cell_type": "code",
   "execution_count": null,
   "id": "5592fdae",
   "metadata": {},
   "outputs": [],
   "source": [
    "SELECT * FROM DEPT;"
   ]
  },
  {
   "cell_type": "markdown",
   "id": "c7531aba",
   "metadata": {},
   "source": [
    "## 4. Basic Queries\n",
    "Examples of WHERE, IN, LIKE, DISTINCT."
   ]
  },
  {
   "cell_type": "code",
   "execution_count": null,
   "id": "6c9a0d58",
   "metadata": {},
   "outputs": [],
   "source": [
    "SELECT ENAME, SAL, SAL * 12 AS ANNUAL_SALARY FROM EMP WHERE SAL * 12 > 30000;"
   ]
  },
  {
   "cell_type": "code",
   "execution_count": null,
   "id": "8047c870",
   "metadata": {},
   "outputs": [],
   "source": [
    "SELECT * FROM EMP WHERE JOB = 'SALESMAN' OR JOB = 'ANALYST';"
   ]
  },
  {
   "cell_type": "code",
   "execution_count": null,
   "id": "69b66a54",
   "metadata": {},
   "outputs": [],
   "source": [
    "SELECT * FROM EMP WHERE JOB IN ('SALESMAN','ANALYST');"
   ]
  },
  {
   "cell_type": "code",
   "execution_count": null,
   "id": "4ab2e313",
   "metadata": {},
   "outputs": [],
   "source": [
    "SELECT * FROM EMP WHERE DEPTNO IN (10,20);"
   ]
  },
  {
   "cell_type": "code",
   "execution_count": null,
   "id": "bba6adfe",
   "metadata": {},
   "outputs": [],
   "source": [
    "SELECT * FROM EMP WHERE ENAME LIKE 'M%';"
   ]
  },
  {
   "cell_type": "code",
   "execution_count": null,
   "id": "a8052979",
   "metadata": {},
   "outputs": [],
   "source": [
    "SELECT * FROM EMP WHERE HIREDATE LIKE '%1981';"
   ]
  },
  {
   "cell_type": "code",
   "execution_count": null,
   "id": "a4a1ded1",
   "metadata": {},
   "outputs": [],
   "source": [
    "SELECT DISTINCT JOB FROM EMP;"
   ]
  },
  {
   "cell_type": "markdown",
   "id": "be28a7ba",
   "metadata": {},
   "source": [
    "## 5. String Functions\n",
    "Using string functions on EMP table."
   ]
  },
  {
   "cell_type": "code",
   "execution_count": null,
   "id": "b91b4353",
   "metadata": {},
   "outputs": [],
   "source": [
    "SELECT * FROM EMP WHERE SUBSTR(ENAME, 2, 2) = 'LA';"
   ]
  },
  {
   "cell_type": "code",
   "execution_count": null,
   "id": "f0734da8",
   "metadata": {},
   "outputs": [],
   "source": [
    "SELECT JOB, REPLACE(JOB, 'SALESMAN', 'MARKETING') FROM EMP;"
   ]
  },
  {
   "cell_type": "markdown",
   "id": "9097cc72",
   "metadata": {},
   "source": [
    "## 6. Date Functions\n",
    "Using date functions on EMP table."
   ]
  },
  {
   "cell_type": "code",
   "execution_count": null,
   "id": "4aed98a2",
   "metadata": {},
   "outputs": [],
   "source": [
    "SELECT * FROM EMP WHERE TO_CHAR(HIREDATE, 'DY') = 'THU';"
   ]
  },
  {
   "cell_type": "code",
   "execution_count": null,
   "id": "fbf6a576",
   "metadata": {},
   "outputs": [],
   "source": [
    "SELECT ENAME, ADD_MONTHS(HIREDATE, 6) AS REVIEW_DATE FROM EMP;"
   ]
  },
  {
   "cell_type": "code",
   "execution_count": null,
   "id": "dc0325d8",
   "metadata": {},
   "outputs": [],
   "source": [
    "SELECT ENAME, MONTHS_BETWEEN(SYSDATE, HIREDATE) AS MONTHS_WORKED FROM EMP;"
   ]
  },
  {
   "cell_type": "markdown",
   "id": "e7eefd26",
   "metadata": {},
   "source": [
    "## 7. Aggregate Functions\n",
    "Examples of aggregate functions."
   ]
  },
  {
   "cell_type": "code",
   "execution_count": null,
   "id": "89565e0e",
   "metadata": {},
   "outputs": [],
   "source": [
    "SELECT SAL FROM EMP;"
   ]
  },
  {
   "cell_type": "code",
   "execution_count": null,
   "id": "9319d610",
   "metadata": {},
   "outputs": [],
   "source": [
    "SELECT MAX(SAL) FROM EMP;"
   ]
  },
  {
   "cell_type": "code",
   "execution_count": null,
   "id": "59e64c0d",
   "metadata": {},
   "outputs": [],
   "source": [
    "SELECT MIN(SAL) FROM EMP;"
   ]
  },
  {
   "cell_type": "code",
   "execution_count": null,
   "id": "82a4cc28",
   "metadata": {},
   "outputs": [],
   "source": [
    "SELECT SUM(SAL) FROM EMP;"
   ]
  },
  {
   "cell_type": "code",
   "execution_count": null,
   "id": "f41dfd50",
   "metadata": {},
   "outputs": [],
   "source": [
    "SELECT AVG(SAL) FROM EMP;"
   ]
  },
  {
   "cell_type": "code",
   "execution_count": null,
   "id": "5129b8bf",
   "metadata": {},
   "outputs": [],
   "source": [
    "SELECT COUNT(*) FROM EMP;"
   ]
  },
  {
   "cell_type": "code",
   "execution_count": null,
   "id": "8afe0f91",
   "metadata": {},
   "outputs": [],
   "source": [
    "SELECT COUNT(ENAME) FROM EMP;"
   ]
  },
  {
   "cell_type": "code",
   "execution_count": null,
   "id": "635004c5",
   "metadata": {},
   "outputs": [],
   "source": [
    "SELECT COUNT(DISTINCT(DEPTNO)) FROM EMP;"
   ]
  },
  {
   "cell_type": "code",
   "execution_count": null,
   "id": "c3d969f1",
   "metadata": {},
   "outputs": [],
   "source": [
    "SELECT DEPTNO, COUNT(*) FROM EMP GROUP BY DEPTNO;"
   ]
  },
  {
   "cell_type": "code",
   "execution_count": null,
   "id": "47a30394",
   "metadata": {},
   "outputs": [],
   "source": [
    "SELECT DEPTNO, MIN(SAL), MAX(SAL) FROM EMP GROUP BY DEPTNO;"
   ]
  },
  {
   "cell_type": "code",
   "execution_count": null,
   "id": "a5fb9d47",
   "metadata": {},
   "outputs": [],
   "source": [
    "SELECT DEPTNO, JOB, SUM(SAL) FROM EMP GROUP BY DEPTNO, JOB;"
   ]
  },
  {
   "cell_type": "code",
   "execution_count": null,
   "id": "331e6fdb",
   "metadata": {},
   "outputs": [],
   "source": [
    "SELECT DEPTNO, SUM(SAL) FROM EMP GROUP BY DEPTNO;"
   ]
  },
  {
   "cell_type": "code",
   "execution_count": null,
   "id": "283ad9a7",
   "metadata": {},
   "outputs": [],
   "source": [
    "SELECT DEPTNO, COUNT(*) FROM EMP GROUP BY DEPTNO HAVING COUNT(*) > 3;"
   ]
  },
  {
   "cell_type": "code",
   "execution_count": null,
   "id": "7abaee3b",
   "metadata": {},
   "outputs": [],
   "source": [
    "SELECT DEPTNO, COUNT(*) FROM EMP GROUP BY DEPTNO HAVING COUNT(*) > 3 ORDER BY COUNT(*) ASC;"
   ]
  }
 ],
 "metadata": {},
 "nbformat": 4,
 "nbformat_minor": 5
}
