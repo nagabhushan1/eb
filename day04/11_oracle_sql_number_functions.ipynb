{
 "cells": [
  {
   "cell_type": "markdown",
   "id": "458da007",
   "metadata": {},
   "source": [
    "### ABS Function\n",
    "The `ABS` function returns the absolute value of a number, removing any negative sign."
   ]
  },
  {
   "cell_type": "code",
   "execution_count": null,
   "id": "2e169268",
   "metadata": {},
   "outputs": [],
   "source": [
    "SELECT ABS(-50) FROM DUAL;"
   ]
  },
  {
   "cell_type": "markdown",
   "id": "7b7c84d3",
   "metadata": {},
   "source": [
    "### MOD Function\n",
    "The `MOD` function returns the remainder of a division."
   ]
  },
  {
   "cell_type": "code",
   "execution_count": null,
   "id": "f6837d8a",
   "metadata": {},
   "outputs": [],
   "source": [
    "SELECT MOD(27, 4) AS REMAINDER FROM DUAL;"
   ]
  },
  {
   "cell_type": "markdown",
   "id": "866b3e64",
   "metadata": {},
   "source": [
    "### ROUND Function\n",
    "The `ROUND` function rounds a number to the nearest integer or to a specified number of decimal places."
   ]
  },
  {
   "cell_type": "code",
   "execution_count": null,
   "id": "4749f0b8",
   "metadata": {},
   "outputs": [],
   "source": [
    "SELECT ROUND(1.8) FROM DUAL;"
   ]
  },
  {
   "cell_type": "markdown",
   "id": "f642acfe",
   "metadata": {},
   "source": [
    "### ROUND Function with More Decimals\n",
    "You can specify the number of decimal places."
   ]
  },
  {
   "cell_type": "code",
   "execution_count": null,
   "id": "da5ca6ce",
   "metadata": {},
   "outputs": [],
   "source": [
    "SELECT ROUND(1.23456) FROM DUAL;"
   ]
  },
  {
   "cell_type": "markdown",
   "id": "c14a33ec",
   "metadata": {},
   "source": [
    "### ROUND Function with 3 Decimal Places\n",
    "Here, the number is rounded to 3 decimal places."
   ]
  },
  {
   "cell_type": "code",
   "execution_count": null,
   "id": "73f19130",
   "metadata": {},
   "outputs": [],
   "source": [
    "SELECT ROUND(1.23456, 3) FROM DUAL;"
   ]
  },
  {
   "cell_type": "markdown",
   "id": "8810c817",
   "metadata": {},
   "source": [
    "### TRUNC Function\n",
    "The `TRUNC` function truncates (removes) the decimal part of a number without rounding."
   ]
  },
  {
   "cell_type": "code",
   "execution_count": null,
   "id": "e9efb20b",
   "metadata": {},
   "outputs": [],
   "source": [
    "SELECT TRUNC(1.8) FROM DUAL;"
   ]
  },
  {
   "cell_type": "markdown",
   "id": "f2de3e13",
   "metadata": {},
   "source": [
    "### TRUNC Function with Decimal Places\n",
    "Truncate a number up to a specific number of decimal places."
   ]
  },
  {
   "cell_type": "code",
   "execution_count": null,
   "id": "a8749e1b",
   "metadata": {},
   "outputs": [],
   "source": [
    "SELECT TRUNC(1.23456, 3) FROM DUAL;"
   ]
  },
  {
   "cell_type": "markdown",
   "id": "dc245031",
   "metadata": {},
   "source": [
    "### GREATEST Function\n",
    "The `GREATEST` function returns the largest value from a list of numbers."
   ]
  },
  {
   "cell_type": "code",
   "execution_count": null,
   "id": "06448a46",
   "metadata": {},
   "outputs": [],
   "source": [
    "SELECT GREATEST(3, 5, 8, 9) FROM DUAL;"
   ]
  },
  {
   "cell_type": "markdown",
   "id": "d110d203",
   "metadata": {},
   "source": [
    "### CEIL Function\n",
    "The `CEIL` function returns the smallest integer greater than or equal to a number."
   ]
  },
  {
   "cell_type": "code",
   "execution_count": null,
   "id": "da52d11d",
   "metadata": {},
   "outputs": [],
   "source": [
    "SELECT CEIL(10.5) FROM DUAL;"
   ]
  },
  {
   "cell_type": "markdown",
   "id": "2e195de2",
   "metadata": {},
   "source": [
    "### FLOOR Function\n",
    "The `FLOOR` function returns the largest integer less than or equal to a number."
   ]
  },
  {
   "cell_type": "code",
   "execution_count": null,
   "id": "696a60a7",
   "metadata": {},
   "outputs": [],
   "source": [
    "SELECT FLOOR(10.5) FROM DUAL;"
   ]
  },
  {
   "cell_type": "markdown",
   "id": "d7c66161",
   "metadata": {},
   "source": [
    "### POWER Function\n",
    "The `POWER` function raises a number to the power of another number."
   ]
  },
  {
   "cell_type": "code",
   "execution_count": null,
   "id": "45a313d8",
   "metadata": {},
   "outputs": [],
   "source": [
    "SELECT POWER(2, 3) FROM DUAL;"
   ]
  },
  {
   "cell_type": "markdown",
   "id": "1eebd0de",
   "metadata": {},
   "source": [
    "### POWER Function Example 2\n",
    "Another example with different values."
   ]
  },
  {
   "cell_type": "code",
   "execution_count": null,
   "id": "a5b63b75",
   "metadata": {},
   "outputs": [],
   "source": [
    "SELECT POWER(4, 3) FROM DUAL;"
   ]
  },
  {
   "cell_type": "markdown",
   "id": "4c001eae",
   "metadata": {},
   "source": [
    "### SQRT Function\n",
    "The `SQRT` function returns the square root of a number."
   ]
  },
  {
   "cell_type": "code",
   "execution_count": null,
   "id": "240c6a70",
   "metadata": {},
   "outputs": [],
   "source": [
    "SELECT SQRT(16) FROM DUAL;"
   ]
  },
  {
   "cell_type": "markdown",
   "id": "4f864f59",
   "metadata": {},
   "source": [
    "### EXP Function\n",
    "The `EXP` function returns Euler’s number `e` raised to the power of a given number."
   ]
  },
  {
   "cell_type": "code",
   "execution_count": null,
   "id": "46a55a84",
   "metadata": {},
   "outputs": [],
   "source": [
    "SELECT EXP(1) FROM DUAL;"
   ]
  },
  {
   "cell_type": "markdown",
   "id": "e52e99ce",
   "metadata": {},
   "source": [
    "### EXP Function Example 2\n",
    "Another example with a higher power."
   ]
  },
  {
   "cell_type": "code",
   "execution_count": null,
   "id": "8e91cde3",
   "metadata": {},
   "outputs": [],
   "source": [
    "SELECT EXP(2) FROM DUAL;"
   ]
  }
 ],
 "metadata": {},
 "nbformat": 4,
 "nbformat_minor": 5
}
