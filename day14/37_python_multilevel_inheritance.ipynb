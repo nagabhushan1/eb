{
 "cells": [
  {
   "cell_type": "markdown",
   "id": "b7315257",
   "metadata": {},
   "source": [
    "\n",
    "# Multilevel Inheritance in Python\n",
    "\n",
    "In **Multilevel Inheritance**, a class inherits from another class, which itself inherits from a third class.  \n",
    "This means that attributes and methods are passed down through multiple generations of classes.\n"
   ]
  },
  {
   "cell_type": "code",
   "execution_count": null,
   "id": "5e81331e",
   "metadata": {},
   "outputs": [],
   "source": [
    "\n",
    "class MusicalInstruments:\n",
    "    numberOfMajorKeys = 12\n"
   ]
  },
  {
   "cell_type": "code",
   "execution_count": null,
   "id": "55a69fa5",
   "metadata": {},
   "outputs": [],
   "source": [
    "\n",
    "class StringInstruments(MusicalInstruments):\n",
    "    typeOfWood = \"Tonewood\"\n"
   ]
  },
  {
   "cell_type": "markdown",
   "id": "d6e330f9",
   "metadata": {},
   "source": [
    "\n",
    "`StringInstruments` now inherits the `numberOfMajorKeys` attribute from `MusicalInstruments`  \n",
    "and adds its own attribute, `typeOfWood`.\n"
   ]
  },
  {
   "cell_type": "code",
   "execution_count": null,
   "id": "1c21894a",
   "metadata": {},
   "outputs": [],
   "source": [
    "\n",
    "class Guitar(StringInstruments):\n",
    "    def __init__(self):\n",
    "        self.numberOfStrings = 6\n",
    "        print(f\"This guitar consists of {self.numberOfStrings} strings, \"\n",
    "              f\"is made of {self.typeOfWood}, and can play {self.numberOfMajorKeys} keys.\")\n"
   ]
  },
  {
   "cell_type": "code",
   "execution_count": null,
   "id": "08f53be8",
   "metadata": {},
   "outputs": [],
   "source": [
    "guitar = Guitar()"
   ]
  },
  {
   "cell_type": "markdown",
   "id": "3ed21f37",
   "metadata": {},
   "source": [
    "\n",
    "**Expected Output:**\n",
    "```\n",
    "This guitar consists of 6 strings, is made of Tonewood, and can play 12 keys.\n",
    "```\n",
    "\n",
    "### Explanation\n",
    "- `numberOfStrings` → belongs to the **Guitar** class (derived class).  \n",
    "- `typeOfWood` → belongs to the **StringInstruments** class (parent class).  \n",
    "- `numberOfMajorKeys` → belongs to the **MusicalInstruments** class (grandparent class).  \n",
    "\n",
    "Hence, the `Guitar` class can access all attributes in the hierarchy.\n"
   ]
  },
  {
   "cell_type": "markdown",
   "id": "b3077fb1",
   "metadata": {},
   "source": [
    "\n",
    "## Visualizing Multilevel Inheritance\n",
    "\n",
    "```\n",
    "MusicalInstruments\n",
    "        ↓\n",
    "StringInstruments\n",
    "        ↓\n",
    "     Guitar\n",
    "```\n",
    "\n",
    "Each class passes its properties down the line, creating a **chain of inheritance**.\n"
   ]
  },
  {
   "cell_type": "markdown",
   "id": "d76137ba",
   "metadata": {},
   "source": [
    "\n",
    "## Summary\n",
    "\n",
    "In this lecture, you learned:\n",
    "- What **Multilevel Inheritance** is  \n",
    "- How attributes and methods are passed through **multiple generations** of classes  \n",
    "- How the **Guitar** class can access attributes from both its parent and grandparent classes  \n",
    "\n",
    "In the next lecture, you’ll learn about **Public, Protected, and Private Members** in Python classes.\n"
   ]
  }
 ],
 "metadata": {},
 "nbformat": 4,
 "nbformat_minor": 5
}
