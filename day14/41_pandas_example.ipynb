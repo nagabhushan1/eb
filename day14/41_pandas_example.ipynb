{
 "cells": [
  {
   "cell_type": "markdown",
   "id": "0e74a9db",
   "metadata": {},
   "source": [
    "\n",
    "# 42_Pandas_CSV_and_GroupBy\n",
    "\n",
    "This notebook demonstrates how to work with CSV data using **Pandas**, including loading files, filtering rows, querying, and performing group-by operations.\n"
   ]
  },
  {
   "cell_type": "code",
   "execution_count": null,
   "id": "b42e3b34",
   "metadata": {},
   "outputs": [],
   "source": [
    "\n",
    "# Install pandas (run only once if not installed)\n",
    "!pip install pandas\n"
   ]
  },
  {
   "cell_type": "code",
   "execution_count": null,
   "id": "6e4572c2",
   "metadata": {},
   "outputs": [],
   "source": [
    "\n",
    "import pandas as pd\n",
    "\n",
    "dataPath = r\"C:\\Users\\admin\\Downloads\\orders.csv\"\n",
    "print(dataPath)\n"
   ]
  },
  {
   "cell_type": "code",
   "execution_count": null,
   "id": "71749de4",
   "metadata": {},
   "outputs": [],
   "source": [
    "\n",
    "df = pd.read_csv(dataPath)\n",
    "\n",
    "# Display first and last 5 rows\n",
    "df.head()\n"
   ]
  },
  {
   "cell_type": "code",
   "execution_count": null,
   "id": "e278c02d",
   "metadata": {},
   "outputs": [],
   "source": [
    "\n",
    "df.tail()\n"
   ]
  },
  {
   "cell_type": "code",
   "execution_count": null,
   "id": "19eef50a",
   "metadata": {},
   "outputs": [],
   "source": [
    "\n",
    "orders_columns = ['order_id', 'order_date', 'order_customer_id', 'order_status']\n",
    "\n",
    "df = pd.read_csv(dataPath, names=orders_columns)\n",
    "df\n"
   ]
  },
  {
   "cell_type": "code",
   "execution_count": null,
   "id": "56e69a4c",
   "metadata": {},
   "outputs": [],
   "source": [
    "\n",
    "df.columns\n"
   ]
  },
  {
   "cell_type": "code",
   "execution_count": null,
   "id": "d7689a27",
   "metadata": {},
   "outputs": [],
   "source": [
    "\n",
    "# Check how the query method works\n",
    "df.query?\n"
   ]
  },
  {
   "cell_type": "code",
   "execution_count": null,
   "id": "47166c13",
   "metadata": {},
   "outputs": [],
   "source": [
    "\n",
    "df['order_status'].unique()\n"
   ]
  },
  {
   "cell_type": "code",
   "execution_count": null,
   "id": "7f14b11e",
   "metadata": {},
   "outputs": [],
   "source": [
    "\n",
    "df.query('order_status == \"COMPLETE\"')\n"
   ]
  },
  {
   "cell_type": "code",
   "execution_count": null,
   "id": "17553923",
   "metadata": {},
   "outputs": [],
   "source": [
    "\n",
    "df.query('order_status == \"COMPLETE\" and order_date == \"2013-07-25 00:00:00.0\"')\n"
   ]
  },
  {
   "cell_type": "code",
   "execution_count": null,
   "id": "e5abe0a8",
   "metadata": {},
   "outputs": [],
   "source": [
    "\n",
    "df.query('order_status == \"COMPLETE\" or order_status == \"CLOSED\"')\n"
   ]
  },
  {
   "cell_type": "code",
   "execution_count": null,
   "id": "65fd081c",
   "metadata": {},
   "outputs": [],
   "source": [
    "\n",
    "df.query('order_status == (\"COMPLETE\", \"CLOSED\")')\n"
   ]
  },
  {
   "cell_type": "code",
   "execution_count": null,
   "id": "ae57480e",
   "metadata": {},
   "outputs": [],
   "source": [
    "\n",
    "help(df.groupby)\n"
   ]
  },
  {
   "cell_type": "code",
   "execution_count": null,
   "id": "6cf46c8e",
   "metadata": {},
   "outputs": [],
   "source": [
    "\n",
    "df.groupby('order_status')['order_id'].agg(order_count='count')\n"
   ]
  },
  {
   "cell_type": "code",
   "execution_count": null,
   "id": "63b78f99",
   "metadata": {},
   "outputs": [],
   "source": [
    "\n",
    "x = '1,2013-07-25 00:00:00.0,11599,CLOSED'\n",
    "\n",
    "print(x.split(','))\n",
    "print(x.split(',')[1])\n",
    "print(x.split(',')[1][:7])\n"
   ]
  },
  {
   "cell_type": "code",
   "execution_count": null,
   "id": "1dcb65f5",
   "metadata": {},
   "outputs": [],
   "source": [
    "\n",
    "df['order_month'] = df.apply(lambda order: order.order_date[:7], axis=1)\n",
    "df['order_month']\n"
   ]
  },
  {
   "cell_type": "code",
   "execution_count": null,
   "id": "c586536d",
   "metadata": {},
   "outputs": [],
   "source": [
    "\n",
    "df.groupby(['order_month', 'order_status'])['order_id'].agg(order_count='count')\n"
   ]
  },
  {
   "cell_type": "code",
   "execution_count": null,
   "id": "bef4b553",
   "metadata": {},
   "outputs": [],
   "source": [
    "\n",
    "df.\\\n",
    "    groupby(['order_month', 'order_status'])['order_id'].\\\n",
    "        agg(order_count='count').\\\n",
    "            reset_index()\n"
   ]
  }
 ],
 "metadata": {},
 "nbformat": 4,
 "nbformat_minor": 5
}
