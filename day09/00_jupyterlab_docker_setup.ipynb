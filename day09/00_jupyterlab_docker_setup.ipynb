{
 "cells": [
  {
   "cell_type": "markdown",
   "metadata": {},
   "source": [
    "# JupyterLab with Python using Docker\n",
    "\n",
    "This notebook provides step-by-step instructions to download and run a **Python JupyterLab Docker container** with the password set to `python3`.\n",
    "\n",
    "We will use the official `jupyter/minimal-notebook` Docker image.\n"
   ]
  },
  {
   "cell_type": "markdown",
   "metadata": {},
   "source": [
    "## Step 1: Download Docker Image\n",
    "\n",
    "Run the following command to download the official Jupyter minimal notebook image:\n"
   ]
  },
  {
   "cell_type": "code",
   "execution_count": null,
   "metadata": {},
   "outputs": [],
   "source": [
    "docker pull jupyter/minimal-notebook:latest"
   ]
  },
  {
   "cell_type": "markdown",
   "metadata": {},
   "source": [
    "## Step 2: Run the Container\n",
    "\n",
    "Now run the container with **JupyterLab enabled** and password set to `python3`:\n"
   ]
  },
  {
   "cell_type": "code",
   "execution_count": null,
   "metadata": {},
   "outputs": [],
   "source": [
    "docker run -it --rm \\\n",
    "    -p 8888:8888 \\\n",
    "    -e JUPYTER_TOKEN= \\\n",
    "    -e JUPYTER_PASSWORD=python3 \\\n",
    "    -v $(pwd)/notebooks:/home/jovyan/work \\\n",
    "    jupyter/minimal-notebook:latest start.sh jupyter lab"
   ]
  },
  {
   "cell_type": "markdown",
   "metadata": {},
   "source": [
    "### Notes:\n",
    "- Access JupyterLab at [http://localhost:8888](http://localhost:8888)\n",
    "- Login password = **python3**\n",
    "- Your local `./notebooks` directory will be mounted inside the container at `/home/jovyan/work` to persist notebooks.\n",
    "- The container will automatically be removed when you stop it (`--rm`).\n"
   ]
  }
 ],
 "metadata": {
  "kernelspec": {
   "display_name": "Python 3",
   "language": "python",
   "name": "python3"
  },
  "language_info": {
   "name": "python",
   "pygments_lexer": "ipython3"
  }
 },
 "nbformat": 4,
 "nbformat_minor": 5
}
