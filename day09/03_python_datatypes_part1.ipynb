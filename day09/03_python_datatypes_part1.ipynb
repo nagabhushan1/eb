{
 "cells": [
  {
   "cell_type": "markdown",
   "id": "e0c78421",
   "metadata": {},
   "source": [
    "### Introduction to Datatypes\n",
    "In Python, a **datatype** represents the type of data that a variable holds. Python is a dynamically typed language, which means we do not explicitly specify the type of a variable. Instead, the type is inferred from the value assigned to it.\n",
    "\n",
    "Some common built-in datatypes are: `int`, `float`, `complex`, `bytes`, `bytearray`, `range`, `str`, `bool`, `list`, `tuple`, `set`, `frozenset`, `dict`, and `NoneType`.\n",
    "\n",
    "Additionally, Python provides built-in functions like `type()` (to check the type of a variable), `id()` (to check the memory address of an object), and `print()` (to display values)."
   ]
  },
  {
   "cell_type": "code",
   "execution_count": null,
   "id": "109679e4",
   "metadata": {},
   "outputs": [],
   "source": [
    "a = 10\n",
    "print(a)\n",
    "print(type(a))\n",
    "print(id(a))"
   ]
  },
  {
   "cell_type": "markdown",
   "id": "6fe85fd1",
   "metadata": {},
   "source": [
    "### Integer Type\n",
    "The `int` type represents whole numbers. Python automatically handles large integers beyond traditional limits."
   ]
  },
  {
   "cell_type": "code",
   "execution_count": null,
   "id": "8b8e4dcb",
   "metadata": {},
   "outputs": [],
   "source": [
    "b = 99999999999999999999999999999999999999999999999999999999999998888888888888888888888888888888888888777777777766\n",
    "print(b)\n",
    "print(type(b))\n",
    "print(id(b))"
   ]
  },
  {
   "cell_type": "markdown",
   "id": "ec5857df",
   "metadata": {},
   "source": [
    "### Number Systems\n",
    "By default, numbers are represented in the decimal (base-10) system. However, Python allows specifying integers in binary (base-2), octal (base-8), and hexadecimal (base-16) forms. Regardless of the input, Python internally stores values in decimal form."
   ]
  },
  {
   "cell_type": "code",
   "execution_count": null,
   "id": "6348387b",
   "metadata": {},
   "outputs": [],
   "source": [
    "a = 0B1111\n",
    "print(a)\n",
    "print(type(a))\n",
    "\n",
    "a = 0b111\n",
    "print(a)\n",
    "print(type(a))\n",
    "\n",
    "a = 0o1111\n",
    "print(a)\n",
    "print(type(a))\n",
    "\n",
    "a = 0O1456\n",
    "print(a)\n",
    "print(type(a))\n",
    "\n",
    "a = 0X1456\n",
    "print(a)\n",
    "print(type(a))\n",
    "\n",
    "a = 0xFACE\n",
    "print(a)\n",
    "print(type(a))"
   ]
  },
  {
   "cell_type": "markdown",
   "id": "5667cf4a",
   "metadata": {},
   "source": [
    "### Base Conversions\n",
    "Python provides built-in functions for base conversions:\n",
    "- `bin()` converts a number to binary.\n",
    "- `oct()` converts a number to octal.\n",
    "- `hex()` converts a number to hexadecimal."
   ]
  },
  {
   "cell_type": "code",
   "execution_count": null,
   "id": "91b77e2d",
   "metadata": {},
   "outputs": [],
   "source": [
    "print(bin(15))\n",
    "print(bin(0X1456))\n",
    "print(bin(0O1456))\n",
    "\n",
    "print(oct(15))\n",
    "print(oct(0X1456))\n",
    "print(oct(0b111))\n",
    "\n",
    "print(hex(15))\n",
    "print(hex(0X1456))\n",
    "print(hex(0b111))\n",
    "print(hex(200))"
   ]
  },
  {
   "cell_type": "markdown",
   "id": "56b7f846",
   "metadata": {},
   "source": [
    "### Float Type\n",
    "The `float` type represents decimal or floating-point values. These values can also be expressed in exponential form using `e` or `E` notation."
   ]
  },
  {
   "cell_type": "code",
   "execution_count": null,
   "id": "f30c89c5",
   "metadata": {},
   "outputs": [],
   "source": [
    "f = 1.234\n",
    "print(f)\n",
    "print(type(f))\n",
    "\n",
    "f = 1.2e3\n",
    "print(f)\n",
    "print(type(f))\n",
    "\n",
    "f = 1.2E3\n",
    "print(f)\n",
    "print(type(f))"
   ]
  },
  {
   "cell_type": "markdown",
   "id": "817be608",
   "metadata": {},
   "source": [
    "### Complex Type\n",
    "Python supports complex numbers, written in the form `a + bj`, where `a` is the real part and `b` is the imaginary part. The attributes `.real` and `.imag` are used to access the respective parts."
   ]
  },
  {
   "cell_type": "code",
   "execution_count": null,
   "id": "3549f555",
   "metadata": {},
   "outputs": [],
   "source": [
    "c = 10+20j\n",
    "print(c)\n",
    "print(type(c))\n",
    "\n",
    "print(c.real)\n",
    "print(c.imag)"
   ]
  },
  {
   "cell_type": "markdown",
   "id": "f4cdf066",
   "metadata": {},
   "source": [
    "### Boolean Type\n",
    "The `bool` type has only two values: `True` and `False`. Internally, Python represents `True` as `1` and `False` as `0`. Therefore, booleans can participate in arithmetic operations."
   ]
  },
  {
   "cell_type": "code",
   "execution_count": null,
   "id": "457b8ba4",
   "metadata": {},
   "outputs": [],
   "source": [
    "a = 10\n",
    "b = 20\n",
    "c = a < b\n",
    "print(c)\n",
    "\n",
    "print(True)\n",
    "print(False)\n",
    "\n",
    "print(True + True)   # 1 + 1 = 2\n",
    "print(True + False)  # 1 + 0 = 1\n",
    "print(False + False) # 0 + 0 = 0\n",
    "\n",
    "print(100 + True)"
   ]
  },
  {
   "cell_type": "markdown",
   "id": "160c746d",
   "metadata": {},
   "source": [
    "### Bytes Type\n",
    "The `bytes` type is an immutable sequence of integers between 0 and 255. Once created, individual elements cannot be modified."
   ]
  },
  {
   "cell_type": "code",
   "execution_count": null,
   "id": "84d0a205",
   "metadata": {},
   "outputs": [],
   "source": [
    "b = [10, 20, 30, 40, 50]\n",
    "b1 = bytes(b)\n",
    "\n",
    "for e in b1:\n",
    "    print(e)\n",
    "\n",
    "print(type(b1))"
   ]
  },
  {
   "cell_type": "markdown",
   "id": "ef15a528",
   "metadata": {},
   "source": [
    "If an integer outside the range 0–255 is used, Python raises a `ValueError`."
   ]
  },
  {
   "cell_type": "code",
   "execution_count": null,
   "id": "8a801ffd",
   "metadata": {},
   "outputs": [],
   "source": [
    "# b = [10, 20, 30, 40, 50, 257]  # Uncommenting this will raise ValueError\n",
    "# b1 = bytes(b)"
   ]
  },
  {
   "cell_type": "markdown",
   "id": "b32df9ac",
   "metadata": {},
   "source": [
    "Bytes objects are immutable. Trying to modify an element results in a `TypeError`."
   ]
  },
  {
   "cell_type": "code",
   "execution_count": null,
   "id": "7e1f7dc1",
   "metadata": {},
   "outputs": [],
   "source": [
    "b = [10, 20, 30, 40, 50]\n",
    "b1 = bytes(b)\n",
    "\n",
    "# Attempting modification\n",
    "# b1[0] = 25  # TypeError"
   ]
  },
  {
   "cell_type": "markdown",
   "id": "6eee0005",
   "metadata": {},
   "source": [
    "### Bytearray Type\n",
    "The `bytearray` type is similar to `bytes`, except that it is mutable. Elements can be reassigned after creation."
   ]
  },
  {
   "cell_type": "code",
   "execution_count": null,
   "id": "b754d188",
   "metadata": {},
   "outputs": [],
   "source": [
    "b = [10, 20, 30, 40, 50]\n",
    "b1 = bytearray(b)\n",
    "\n",
    "b1[0] = 25\n",
    "print(b1[0])\n",
    "print(type(b1))"
   ]
  }
 ],
 "metadata": {},
 "nbformat": 4,
 "nbformat_minor": 5
}