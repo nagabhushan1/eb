{
 "cells": [
  {
   "cell_type": "markdown",
   "id": "41d50f73",
   "metadata": {},
   "source": [
    "# Oracle TIMESTAMP Datatype – Advanced & HR Scenarios\n",
    "This notebook provides comprehensive examples for Oracle TIMESTAMP datatype, tested on Oracle APEX / LiveSQL.\n",
    "\n",
    "### Sections\n",
    "- Fundamentals\n",
    "- HR Schema Scenarios\n",
    "- Time Zone Handling\n",
    "- Advanced Conversions\n",
    "- Interview Challenges"
   ]
  },
  {
   "cell_type": "code",
   "execution_count": null,
   "id": "e166eaba",
   "metadata": {},
   "outputs": [],
   "source": [
    "-- Section 1: Fundamentals (DUAL)\n",
    "SELECT SYSTIMESTAMP AS system_ts, CURRENT_TIMESTAMP AS session_ts FROM DUAL;\n",
    "SELECT SYSDATE AS system_date, SYSTIMESTAMP AS system_timestamp FROM DUAL;\n",
    "SELECT TIMESTAMP '2025-10-05 14:35:55.123456' AS custom_ts FROM DUAL;\n",
    "SELECT TIMESTAMP '2025-10-05 08:00:00 -05:00' AS ny_time,\n",
    "       TIMESTAMP '2025-10-05 18:30:00 +05:30' AS india_time FROM DUAL;\n",
    "SELECT SYSTIMESTAMP AS now,\n",
    "       SYSTIMESTAMP + INTERVAL '2' DAY AS plus_2_days,\n",
    "       SYSTIMESTAMP - INTERVAL '5' HOUR AS minus_5_hours FROM DUAL;"
   ]
  },
  {
   "cell_type": "code",
   "execution_count": null,
   "id": "21c4c176",
   "metadata": {},
   "outputs": [],
   "source": [
    "-- Section 2: HR Schema Examples\n",
    "SELECT ename, SYSDATE - hiredate AS days_since_hired FROM emp;\n",
    "SELECT ename, FLOOR(MONTHS_BETWEEN(SYSDATE, hiredate)/12) AS years,\n",
    "       MOD(MONTHS_BETWEEN(SYSDATE, hiredate),12) AS months FROM emp;\n",
    "SELECT ename, hiredate FROM emp WHERE hiredate > ADD_MONTHS(SYSDATE, -6);\n",
    "SELECT ename, hiredate, TO_CHAR(hiredate,'DY') AS day_of_week\n",
    "FROM emp WHERE TO_CHAR(hiredate,'DY') IN ('SAT','SUN');\n",
    "SELECT d.dname,\n",
    "       ROUND(AVG(MONTHS_BETWEEN(SYSDATE, e.hiredate)),1) AS avg_experience_months\n",
    "FROM emp e JOIN dept d ON e.deptno = d.deptno GROUP BY d.dname;"
   ]
  },
  {
   "cell_type": "code",
   "execution_count": null,
   "id": "6f5df347",
   "metadata": {},
   "outputs": [],
   "source": [
    "-- Section 3: Time Zone Handling\n",
    "SELECT FROM_TZ(TIMESTAMP '2025-10-05 08:00:00', 'America/New_York') AT TIME ZONE 'Asia/Kolkata' AS india_time FROM DUAL;\n",
    "ALTER SESSION SET TIME_ZONE = '+02:00';\n",
    "SELECT CURRENT_TIMESTAMP, SYSTIMESTAMP FROM DUAL;\n",
    "SELECT CURRENT_DATE AS curr_date, CURRENT_TIMESTAMP AS curr_ts FROM DUAL;"
   ]
  },
  {
   "cell_type": "code",
   "execution_count": null,
   "id": "a0851b23",
   "metadata": {},
   "outputs": [],
   "source": [
    "-- Section 4: Advanced Conversions\n",
    "SELECT TO_TIMESTAMP('2025-10-05 15:45:33.123', 'YYYY-MM-DD HH24:MI:SS.FF3') AS converted_ts FROM DUAL;\n",
    "SELECT CAST(SYSDATE AS TIMESTAMP) AS ts_value FROM DUAL;\n",
    "SELECT EXTRACT(TIMEZONE_REGION FROM SYSTIMESTAMP) AS tz_region FROM DUAL;\n",
    "SELECT SYSTIMESTAMP + NUMTODSINTERVAL(90,'MINUTE') AS after_90_min,\n",
    "       SYSTIMESTAMP + NUMTOYMINTERVAL(2,'MONTH') AS after_2_months FROM DUAL;\n",
    "SELECT TO_CHAR(SYSTIMESTAMP,'YYYY-MM-DD HH24:MI:SS.FF3 TZR') AS formatted_ts FROM DUAL;"
   ]
  },
  {
   "cell_type": "code",
   "execution_count": null,
   "id": "2404dd61",
   "metadata": {},
   "outputs": [],
   "source": [
    "-- Section 5: Interview Challenges\n",
    "SELECT (TO_TIMESTAMP('2025-10-05 18:00:00','YYYY-MM-DD HH24:MI:SS') -\n",
    "        TO_TIMESTAMP('2025-10-05 14:00:00','YYYY-MM-DD HH24:MI:SS')) DAY TO SECOND AS diff FROM DUAL;\n",
    "SELECT EXTRACT(DAY FROM (t2 - t1))*24*60 + EXTRACT(HOUR FROM (t2 - t1))*60 + EXTRACT(MINUTE FROM (t2 - t1)) AS diff_minutes\n",
    "FROM (SELECT TO_TIMESTAMP('2025-10-05 18:00:00','YYYY-MM-DD HH24:MI:SS') t2,\n",
    "             TO_TIMESTAMP('2025-10-05 15:00:00','YYYY-MM-DD HH24:MI:SS') t1 FROM DUAL);\n",
    "SELECT ROUND(SYSTIMESTAMP, 'MI') AS rounded_minute FROM DUAL;\n",
    "SELECT SYSTIMESTAMP + INTERVAL '45' DAY + INTERVAL '6' HOUR AS project_deadline FROM DUAL;\n",
    "SELECT CASE WHEN TO_NUMBER(TO_CHAR(SYSTIMESTAMP,'HH24')) BETWEEN 9 AND 18 THEN 'Within Office Hours'\n",
    "            ELSE 'Outside Office Hours' END AS status FROM DUAL;"
   ]
  }
 ],
 "metadata": {},
 "nbformat": 4,
 "nbformat_minor": 5
}